{
  "nbformat": 4,
  "nbformat_minor": 0,
  "metadata": {
    "colab": {
      "provenance": [],
      "authorship_tag": "ABX9TyMH+3cd/pyEeKYXzTVdtXpg",
      "include_colab_link": true
    },
    "kernelspec": {
      "name": "python3",
      "display_name": "Python 3"
    },
    "language_info": {
      "name": "python"
    }
  },
  "cells": [
    {
      "cell_type": "markdown",
      "metadata": {
        "id": "view-in-github",
        "colab_type": "text"
      },
      "source": [
        "<a href=\"https://colab.research.google.com/github/Ayesha-Siddiqa-khan/Python-Alpha/blob/main/1st_lec.ipynb\" target=\"_parent\"><img src=\"https://colab.research.google.com/assets/colab-badge.svg\" alt=\"Open In Colab\"/></a>"
      ]
    },
    {
      "cell_type": "code",
      "source": [
        "a = int(input(\"enter your first number : \"))\n",
        "b = int(input(\"enter your second number : \"))\n",
        "\n",
        "c = a + b\n",
        "print(type(c ), \"sum :\" , c )\n"
      ],
      "metadata": {
        "colab": {
          "base_uri": "https://localhost:8080/"
        },
        "id": "fCCaxw9ZsDRi",
        "outputId": "6f77f4e0-29c8-4a5f-c6ab-d03cc8120eb0"
      },
      "execution_count": 6,
      "outputs": [
        {
          "output_type": "stream",
          "name": "stdout",
          "text": [
            "enter your first number : 23\n",
            "enter your second number : 23\n",
            "<class 'int'> sum : 46\n"
          ]
        }
      ]
    },
    {
      "cell_type": "code",
      "execution_count": 11,
      "metadata": {
        "colab": {
          "base_uri": "https://localhost:8080/"
        },
        "id": "wLSwmqJ6rtx5",
        "outputId": "fb188134-cf91-43d1-a524-05d98124ed2c"
      },
      "outputs": [
        {
          "output_type": "stream",
          "name": "stdout",
          "text": [
            "True\n"
          ]
        }
      ],
      "source": [
        "a = 13\n",
        "b = 7\n",
        "print(a >= b)"
      ]
    },
    {
      "cell_type": "code",
      "source": [
        "a = 13\n",
        "b = 7\n",
        "print(a <= b)"
      ],
      "metadata": {
        "colab": {
          "base_uri": "https://localhost:8080/"
        },
        "id": "goMiLc63wAbg",
        "outputId": "e560d2cb-1b43-4d3e-b8d0-ff3327b591f3"
      },
      "execution_count": 14,
      "outputs": [
        {
          "output_type": "stream",
          "name": "stdout",
          "text": [
            "False\n"
          ]
        }
      ]
    },
    {
      "cell_type": "code",
      "source": [
        "# prompt: i am beginer see above code and give me practise example only one\n",
        "\n",
        "# Get input from the user for two numbers\n",
        "num1 = int(input(\"Enter the first number: \"))\n",
        "num2 = int(input(\"Enter the second number: \"))\n",
        "\n",
        "# Check if the first number is greater than the second number\n",
        "if num1 > num2:\n",
        "  print(num1, \"is greater than\", num2)\n",
        "else:\n",
        "  print(num2, \"is greater than or equal to\", num1)\n"
      ],
      "metadata": {
        "colab": {
          "base_uri": "https://localhost:8080/"
        },
        "id": "w-Ab5hIPwGdX",
        "outputId": "ac92b2a9-ecaa-4d01-f0a8-ee014e8fd507"
      },
      "execution_count": 15,
      "outputs": [
        {
          "output_type": "stream",
          "name": "stdout",
          "text": [
            "Enter the first number: 63\n",
            "Enter the second number: 56\n",
            "63 is greater than 56\n"
          ]
        }
      ]
    },
    {
      "cell_type": "code",
      "source": [
        "num1 = int(input(\"Enter the first number:\"))\n",
        "num2 = int(input(\"enter the second number:\"))\n",
        "sum = num1 + num2\n",
        "print(\"sum:\", sum)\n",
        "\n",
        "\n",
        "\n",
        "\n"
      ],
      "metadata": {
        "colab": {
          "base_uri": "https://localhost:8080/"
        },
        "id": "Nk7O7YMww7Bw",
        "outputId": "d62b2c57-44f2-4e3a-9bcf-fbe38609f858"
      },
      "execution_count": 20,
      "outputs": [
        {
          "output_type": "stream",
          "name": "stdout",
          "text": [
            "Enter the first number:45\n",
            "enter the second number:45\n",
            "sum: 90\n"
          ]
        }
      ]
    },
    {
      "cell_type": "code",
      "source": [
        "num1 = int(input(\"Enter the first number:\"))\n",
        "num2 = int(input(\"enter the second number:\"))\n",
        "sum = num1 - num2\n",
        "print(\"sum:\", sum)\n"
      ],
      "metadata": {
        "colab": {
          "base_uri": "https://localhost:8080/"
        },
        "id": "wIlpMi7YzEv4",
        "outputId": "c2d6542c-72f6-487c-9b07-687fc466e1ee"
      },
      "execution_count": 21,
      "outputs": [
        {
          "output_type": "stream",
          "name": "stdout",
          "text": [
            "Enter the first number:32\n",
            "enter the second number:12\n",
            "sum: 20\n"
          ]
        }
      ]
    }
  ]
}
{
  "nbformat": 4,
  "nbformat_minor": 0,
  "metadata": {
    "colab": {
      "provenance": [],
      "authorship_tag": "ABX9TyMuKp1jkQ8o3iuUrXUa19vk",
      "include_colab_link": true
    },
    "kernelspec": {
      "name": "python3",
      "display_name": "Python 3"
    },
    "language_info": {
      "name": "python"
    }
  },
  "cells": [
    {
      "cell_type": "markdown",
      "metadata": {
        "id": "view-in-github",
        "colab_type": "text"
      },
      "source": [
        "<a href=\"https://colab.research.google.com/github/Ayesha-Siddiqa-khan/Python-Alpha/blob/main/lecture_02.ipynb\" target=\"_parent\"><img src=\"https://colab.research.google.com/assets/colab-badge.svg\" alt=\"Open In Colab\"/></a>"
      ]
    },
    {
      "cell_type": "code",
      "execution_count": 4,
      "metadata": {
        "colab": {
          "base_uri": "https://localhost:8080/"
        },
        "id": "9fKlOO9Sev3i",
        "outputId": "ef4936a9-26e7-406f-8ac7-9dd44106e092"
      },
      "outputs": [
        {
          "output_type": "stream",
          "name": "stdout",
          "text": [
            "this is a string.\n",
            "this is made in a python   \n"
          ]
        }
      ],
      "source": [
        "str1 = \"this is a string.\\nthis is made in a python   \"\n",
        "print(str1)"
      ]
    },
    {
      "cell_type": "code",
      "source": [
        "str1 = \"this is a string.\"\n",
        "str2 = \"this is made in a python\"                         #concatinate\n",
        "print(str1 , str2)\n",
        "\n",
        "\n",
        "\n",
        "\n",
        "# # str3 = str1 + str2\n",
        "# print(str3)\n",
        "# # print(str1 + str2)"
      ],
      "metadata": {
        "colab": {
          "base_uri": "https://localhost:8080/"
        },
        "id": "HymKJR14gU21",
        "outputId": "d3253c57-426f-468e-aba3-60a5a15e00fa"
      },
      "execution_count": 6,
      "outputs": [
        {
          "output_type": "stream",
          "name": "stdout",
          "text": [
            "this is a string. this is made in a python\n"
          ]
        }
      ]
    },
    {
      "cell_type": "code",
      "source": [
        "str1 = \"this is a string.\"\n",
        "print(len(str1) , str1)"
      ],
      "metadata": {
        "colab": {
          "base_uri": "https://localhost:8080/"
        },
        "id": "WtSLwee4hCDu",
        "outputId": "fa70ed0c-8718-4603-f738-0e27707731e7"
      },
      "execution_count": 8,
      "outputs": [
        {
          "output_type": "stream",
          "name": "stdout",
          "text": [
            "17 this is a string.\n"
          ]
        }
      ]
    },
    {
      "cell_type": "code",
      "source": [
        "str1 = \"this is a string.\"\n",
        "print(type(str1) , str1)"
      ],
      "metadata": {
        "colab": {
          "base_uri": "https://localhost:8080/"
        },
        "id": "7AXi7lpqh-AY",
        "outputId": "5889d6ea-8614-4d43-8404-c242c69a7d81"
      },
      "execution_count": 11,
      "outputs": [
        {
          "output_type": "stream",
          "name": "stdout",
          "text": [
            "<class 'str'> this is a string.\n"
          ]
        }
      ]
    },
    {
      "cell_type": "code",
      "source": [
        "str1 = \"this is a string.\"\n",
        "str2 = \"this is made in a python\"\n",
        "\n",
        "print(len(str1 + \"    \" + str2))"
      ],
      "metadata": {
        "colab": {
          "base_uri": "https://localhost:8080/"
        },
        "id": "kBea0QdZi32v",
        "outputId": "5abc3b94-9613-4891-c36a-117e6b1b9b86"
      },
      "execution_count": 14,
      "outputs": [
        {
          "output_type": "stream",
          "name": "stdout",
          "text": [
            "45\n"
          ]
        }
      ]
    },
    {
      "cell_type": "code",
      "source": [
        "str1 = \"this is a string.\"\n",
        "ch = str1[6]\n",
        "print(ch)"
      ],
      "metadata": {
        "colab": {
          "base_uri": "https://localhost:8080/"
        },
        "id": "O6BZ8SPKjblv",
        "outputId": "770e7e1d-f450-4eb0-ef22-6b6ddf2ff716"
      },
      "execution_count": 15,
      "outputs": [
        {
          "output_type": "stream",
          "name": "stdout",
          "text": [
            "s\n"
          ]
        }
      ]
    },
    {
      "cell_type": "code",
      "source": [
        "str1 = \"this is a string.\"\n",
        "ch = str1[9 : 17]\n",
        "print(ch)\n",
        "\n",
        "\n",
        "#print(str[5:len(str1)])\n",
        "#print(str1[:4])"
      ],
      "metadata": {
        "colab": {
          "base_uri": "https://localhost:8080/"
        },
        "id": "6EW9cJAKkqP5",
        "outputId": "866cfd88-6f7c-4607-babd-c1d278ac5f2e"
      },
      "execution_count": 21,
      "outputs": [
        {
          "output_type": "stream",
          "name": "stdout",
          "text": [
            " string.\n"
          ]
        }
      ]
    },
    {
      "cell_type": "code",
      "source": [
        "str1 = \"this is a string.\"\n",
        "ch = str1[-8 : -4]\n",
        "print(ch)\n"
      ],
      "metadata": {
        "colab": {
          "base_uri": "https://localhost:8080/"
        },
        "id": "-E7ba6PzmU2Q",
        "outputId": "78565aa6-a086-4a1c-ef82-d8b6db38e0fd"
      },
      "execution_count": 25,
      "outputs": [
        {
          "output_type": "stream",
          "name": "stdout",
          "text": [
            " str\n"
          ]
        }
      ]
    },
    {
      "cell_type": "code",
      "source": [
        "str = \"I am studying python from apna college\"\n",
        "print(str.endswith(\"ege\"))"
      ],
      "metadata": {
        "colab": {
          "base_uri": "https://localhost:8080/"
        },
        "id": "ltnc2WPpoTGy",
        "outputId": "d3c167fd-15e8-4d7f-d046-0a1e3e2244d5"
      },
      "execution_count": 28,
      "outputs": [
        {
          "output_type": "stream",
          "name": "stdout",
          "text": [
            "True\n"
          ]
        }
      ]
    },
    {
      "cell_type": "code",
      "source": [
        "str = \"I am studying python from apna college\"\n",
        "str = str.capitalize()\n",
        "print(str)\n"
      ],
      "metadata": {
        "colab": {
          "base_uri": "https://localhost:8080/"
        },
        "id": "ytliuXV9pyzz",
        "outputId": "3f1faa71-6b4f-4fb7-f381-f1217ae1ef27"
      },
      "execution_count": 31,
      "outputs": [
        {
          "output_type": "stream",
          "name": "stdout",
          "text": [
            "I am studying python from apna college\n"
          ]
        }
      ]
    },
    {
      "cell_type": "code",
      "source": [],
      "metadata": {
        "id": "da8uxrT6rRep"
      },
      "execution_count": null,
      "outputs": []
    }
  ]
}
{
  "nbformat": 4,
  "nbformat_minor": 0,
  "metadata": {
    "colab": {
      "provenance": [],
      "authorship_tag": "ABX9TyO4u/rUP0uTH+C66ve5qlfB",
      "include_colab_link": true
    },
    "kernelspec": {
      "name": "python3",
      "display_name": "Python 3"
    },
    "language_info": {
      "name": "python"
    }
  },
  "cells": [
    {
      "cell_type": "markdown",
      "metadata": {
        "id": "view-in-github",
        "colab_type": "text"
      },
      "source": [
        "<a href=\"https://colab.research.google.com/github/Ayesha-Siddiqa-khan/Python-Alpha/blob/main/function_practise1.ipynb\" target=\"_parent\"><img src=\"https://colab.research.google.com/assets/colab-badge.svg\" alt=\"Open In Colab\"/></a>"
      ]
    },
    {
      "cell_type": "code",
      "execution_count": 1,
      "metadata": {
        "colab": {
          "base_uri": "https://localhost:8080/"
        },
        "id": "P_74V0ULTzb8",
        "outputId": "9e7e9708-af8a-47f5-fe1c-ecd9f01dab4a"
      },
      "outputs": [
        {
          "output_type": "stream",
          "name": "stdout",
          "text": [
            "Hello  Xiaoqi ! welcome to python ! your age is 16\n",
            "Hello  Ahmad ! welcome to python ! your age is 20\n",
            "Hello  Asia ! welcome to python ! your age is 0\n",
            "Hello  Bobo ! welcome to python ! your age is 0\n",
            "Hello  Humaira ! welcome to python ! your age is 0\n"
          ]
        }
      ],
      "source": [
        "def greet_person(name , age=0):\n",
        "    print(\"Hello \", name , \"! welcome to python !\" , f\"your age is {age}\")\n",
        "\n",
        "greet_person(\"Xiaoqi\", 16)\n",
        "greet_person(\"Ahmad\",  20)\n",
        "greet_person(\"Asia\")\n",
        "greet_person(\"Bobo\")\n",
        "greet_person(\"Humaira\")"
      ]
    },
    {
      "cell_type": "code",
      "source": [
        "def add_number(a,b):\n",
        "    return a + b\n",
        "\n",
        "result = add_number(5,3)\n",
        "print(\"the sum is :\" , result)\n",
        "\n"
      ],
      "metadata": {
        "colab": {
          "base_uri": "https://localhost:8080/"
        },
        "id": "ymSLPsDSUE1D",
        "outputId": "8e92a16e-67ec-4ed0-9a5f-69c900fc92d0"
      },
      "execution_count": 2,
      "outputs": [
        {
          "output_type": "stream",
          "name": "stdout",
          "text": [
            "the sum is : 8\n"
          ]
        }
      ]
    }
  ]
}
{
  "nbformat": 4,
  "nbformat_minor": 0,
  "metadata": {
    "colab": {
      "provenance": [],
      "authorship_tag": "ABX9TyO6dt4gr7AxkzPrkP9N1GTV",
      "include_colab_link": true
    },
    "kernelspec": {
      "name": "python3",
      "display_name": "Python 3"
    },
    "language_info": {
      "name": "python"
    }
  },
  "cells": [
    {
      "cell_type": "markdown",
      "metadata": {
        "id": "view-in-github",
        "colab_type": "text"
      },
      "source": [
        "<a href=\"https://colab.research.google.com/github/Ayesha-Siddiqa-khan/Python-Alpha/blob/main/lecture2_(2nd_part)_.ipynb\" target=\"_parent\"><img src=\"https://colab.research.google.com/assets/colab-badge.svg\" alt=\"Open In Colab\"/></a>"
      ]
    },
    {
      "cell_type": "code",
      "execution_count": 2,
      "metadata": {
        "colab": {
          "base_uri": "https://localhost:8080/"
        },
        "id": "-3HRp5uscpqs",
        "outputId": "8893818d-5362-4d6a-9a27-89742d6ed143"
      },
      "outputs": [
        {
          "output_type": "stream",
          "name": "stdout",
          "text": [
            "can vote \n",
            "can drive\n"
          ]
        }
      ],
      "source": [
        "age = 24\n",
        "\n",
        "if(age >=18):\n",
        "  print(\"can vote \")\n",
        "  print(\"can drive\")"
      ]
    },
    {
      "cell_type": "code",
      "source": [
        "light = \"green\"\n",
        "\n",
        "if(light == \"red\"):\n",
        "  print(\" stop \")\n",
        "\n",
        "elif(light == \"green\"):\n",
        "    print(\"go\")\n",
        "\n",
        "elif(light == \"yellow\"):\n",
        "    print(\"get ready\")\n",
        "\n",
        "print(\"end of code\")"
      ],
      "metadata": {
        "colab": {
          "base_uri": "https://localhost:8080/"
        },
        "id": "PSzgsVYefEti",
        "outputId": "022646c3-c6e7-4649-d78d-1c3bd1623050"
      },
      "execution_count": 5,
      "outputs": [
        {
          "output_type": "stream",
          "name": "stdout",
          "text": [
            "go\n",
            "end of code\n"
          ]
        }
      ]
    },
    {
      "cell_type": "code",
      "source": [
        "num = 5\n",
        "if(num > 2):\n",
        "  print(\"greater than 2\")\n",
        "\n",
        "\n",
        "if(num > 3):\n",
        "  print(\"greater than 3\")"
      ],
      "metadata": {
        "colab": {
          "base_uri": "https://localhost:8080/"
        },
        "id": "-eo0MvmQgXQb",
        "outputId": "e68c4a1b-9cdd-4156-f952-c5b92d8f4779"
      },
      "execution_count": 6,
      "outputs": [
        {
          "output_type": "stream",
          "name": "stdout",
          "text": [
            "greater than 2\n",
            "greater than 3\n"
          ]
        }
      ]
    },
    {
      "cell_type": "code",
      "source": [
        "light = \"pink\"\n",
        "\n",
        "if(light == \"red\"):\n",
        "  print(\" stop \")\n",
        "\n",
        "elif(light == \"green\"):\n",
        "    print(\"go\")\n",
        "\n",
        "elif(light == \"yellow\"):\n",
        "    print(\"get ready\")\n",
        "\n",
        "\n",
        "else:\n",
        "     print(\"light is broken\")\n",
        "\n",
        "\n",
        "print(\"end of code\")\n"
      ],
      "metadata": {
        "colab": {
          "base_uri": "https://localhost:8080/"
        },
        "id": "kzbsTftSh4-e",
        "outputId": "9ab0a907-0bf5-40c0-fffe-272cd5073f8d"
      },
      "execution_count": 8,
      "outputs": [
        {
          "output_type": "stream",
          "name": "stdout",
          "text": [
            "light is broken\n",
            "end of code\n"
          ]
        }
      ]
    },
    {
      "cell_type": "code",
      "source": [
        "age = 24\n",
        "\n",
        "if(age >=18):\n",
        "  print(\"can vote \")\n",
        "\n",
        "else:\n",
        "      print(\"CANNOT VOTE\")"
      ],
      "metadata": {
        "id": "pOlryVzxikLD"
      },
      "execution_count": null,
      "outputs": []
    }
  ]
}
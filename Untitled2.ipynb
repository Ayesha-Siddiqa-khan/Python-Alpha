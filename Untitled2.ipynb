{
  "nbformat": 4,
  "nbformat_minor": 0,
  "metadata": {
    "colab": {
      "provenance": [],
      "authorship_tag": "ABX9TyPufkc93+9gTxKBo+7sFrn1",
      "include_colab_link": true
    },
    "kernelspec": {
      "name": "python3",
      "display_name": "Python 3"
    },
    "language_info": {
      "name": "python"
    }
  },
  "cells": [
    {
      "cell_type": "markdown",
      "metadata": {
        "id": "view-in-github",
        "colab_type": "text"
      },
      "source": [
        "<a href=\"https://colab.research.google.com/github/Ayesha-Siddiqa-khan/Python-Alpha/blob/main/Untitled2.ipynb\" target=\"_parent\"><img src=\"https://colab.research.google.com/assets/colab-badge.svg\" alt=\"Open In Colab\"/></a>"
      ]
    },
    {
      "cell_type": "code",
      "execution_count": 4,
      "metadata": {
        "colab": {
          "base_uri": "https://localhost:8080/"
        },
        "id": "9fKlOO9Sev3i",
        "outputId": "ef4936a9-26e7-406f-8ac7-9dd44106e092"
      },
      "outputs": [
        {
          "output_type": "stream",
          "name": "stdout",
          "text": [
            "this is a string.\n",
            "this is made in a python   \n"
          ]
        }
      ],
      "source": [
        "str1 = \"this is a string.\\nthis is made in a python   \"\n",
        "print(str1)"
      ]
    },
    {
      "cell_type": "code",
      "source": [
        "str1 = \"this is a string.\"\n",
        "str2 = \"this is made in a python\"                         #concatinate\n",
        "print(str1 , str2)\n",
        "\n",
        "\n",
        "\n",
        "\n",
        "# # str3 = str1 + str2\n",
        "# print(str3)\n",
        "# # print(str1 + str2)"
      ],
      "metadata": {
        "colab": {
          "base_uri": "https://localhost:8080/"
        },
        "id": "HymKJR14gU21",
        "outputId": "d3253c57-426f-468e-aba3-60a5a15e00fa"
      },
      "execution_count": 6,
      "outputs": [
        {
          "output_type": "stream",
          "name": "stdout",
          "text": [
            "this is a string. this is made in a python\n"
          ]
        }
      ]
    },
    {
      "cell_type": "code",
      "source": [
        "str1 = \"this is a string.\"\n",
        "print(len(str1) , str1)"
      ],
      "metadata": {
        "colab": {
          "base_uri": "https://localhost:8080/"
        },
        "id": "WtSLwee4hCDu",
        "outputId": "fa70ed0c-8718-4603-f738-0e27707731e7"
      },
      "execution_count": 8,
      "outputs": [
        {
          "output_type": "stream",
          "name": "stdout",
          "text": [
            "17 this is a string.\n"
          ]
        }
      ]
    },
    {
      "cell_type": "code",
      "source": [],
      "metadata": {
        "id": "7AXi7lpqh-AY"
      },
      "execution_count": null,
      "outputs": []
    }
  ]
}
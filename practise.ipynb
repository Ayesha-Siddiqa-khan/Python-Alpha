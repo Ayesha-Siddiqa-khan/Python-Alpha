{
  "nbformat": 4,
  "nbformat_minor": 0,
  "metadata": {
    "colab": {
      "provenance": [],
      "authorship_tag": "ABX9TyP2I2oV6ZCXhQLd+Q1pYeYs",
      "include_colab_link": true
    },
    "kernelspec": {
      "name": "python3",
      "display_name": "Python 3"
    },
    "language_info": {
      "name": "python"
    }
  },
  "cells": [
    {
      "cell_type": "markdown",
      "metadata": {
        "id": "view-in-github",
        "colab_type": "text"
      },
      "source": [
        "<a href=\"https://colab.research.google.com/github/Ayesha-Siddiqa-khan/Python-Alpha/blob/main/practise.ipynb\" target=\"_parent\"><img src=\"https://colab.research.google.com/assets/colab-badge.svg\" alt=\"Open In Colab\"/></a>"
      ]
    },
    {
      "cell_type": "code",
      "execution_count": 1,
      "metadata": {
        "colab": {
          "base_uri": "https://localhost:8080/"
        },
        "id": "bpd27VVv1CSl",
        "outputId": "d7e4f0e2-b739-4903-b7a2-5e40e24b2e4e"
      },
      "outputs": [
        {
          "output_type": "stream",
          "name": "stdout",
          "text": [
            "True\n"
          ]
        }
      ],
      "source": [
        "str = \"I am ayesha and i am learing python from apna college\"\n",
        "print(str.endswith(\"ege\"))"
      ]
    },
    {
      "cell_type": "code",
      "source": [
        "str = \"I am ayesha i am learning python from apna college\"\n",
        "str = str.capitalize()\n",
        "print(str)"
      ],
      "metadata": {
        "colab": {
          "base_uri": "https://localhost:8080/"
        },
        "id": "UrWRBuml1-jz",
        "outputId": "a4e6b998-eaba-4935-d24d-2b154a16d769"
      },
      "execution_count": 5,
      "outputs": [
        {
          "output_type": "stream",
          "name": "stdout",
          "text": [
            "I am ayesha i am learning python from apna college\n"
          ]
        }
      ]
    },
    {
      "cell_type": "code",
      "source": [
        "str = \"I am ayesha i am learning python from apna college\"\n",
        "print(str.replace(\"python\",\"jawascript\"))"
      ],
      "metadata": {
        "colab": {
          "base_uri": "https://localhost:8080/"
        },
        "id": "fh5L8Hia25rI",
        "outputId": "71d52032-772e-4919-f2d8-636554795347"
      },
      "execution_count": 6,
      "outputs": [
        {
          "output_type": "stream",
          "name": "stdout",
          "text": [
            "I am ayesha i am learning jawascript from apna college\n"
          ]
        }
      ]
    },
    {
      "cell_type": "code",
      "source": [
        "str = \"I am ayesha i am learning python from apna college\"\n",
        "print(str.find(\"from\"))"
      ],
      "metadata": {
        "colab": {
          "base_uri": "https://localhost:8080/"
        },
        "id": "NbLQ29HJ3XIT",
        "outputId": "e86ea509-7801-4231-dec4-2d4d354ea61f"
      },
      "execution_count": 7,
      "outputs": [
        {
          "output_type": "stream",
          "name": "stdout",
          "text": [
            "33\n"
          ]
        }
      ]
    },
    {
      "cell_type": "code",
      "source": [],
      "metadata": {
        "id": "Pu7IFASh4O9b"
      },
      "execution_count": null,
      "outputs": []
    }
  ]
}